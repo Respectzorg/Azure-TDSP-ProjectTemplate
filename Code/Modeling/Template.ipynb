{
 "cells": [
  {
   "cell_type": "markdown",
   "metadata": {},
   "source": [
    "# Titel\n",
    "\n",
    "Uitleg notebook\n",
    "\n",
    "**Input**<br>\n",
    "\n",
    "Welke database/datasource?\n",
    "\n",
    "Welke tabellen zijn nodig, waarom?\n",
    "\n",
    "Welke periode van tijd?\n",
    "\n",
    "**Processing**<br>\n",
    "\n",
    "Welke inzichten wil je creeren?\n",
    "\n",
    "Welke transformaties moeten daarvoor worden toegepast?\n",
    "\n",
    "**Output**<br>\n",
    "\n",
    "Wat gebeurt er met het resultaat?\n"
   ]
  },
  {
   "cell_type": "code",
   "execution_count": null,
   "metadata": {},
   "outputs": [],
   "source": [
    "import pandas as pd\n",
    "import numpy as np\n",
    "from datetime import datetime\n",
    "import sys\n",
    "sys.path.append('..')\n",
    "from configuration import conn_engine"
   ]
  },
  {
   "cell_type": "markdown",
   "metadata": {},
   "source": [
    "## Input"
   ]
  },
  {
   "cell_type": "code",
   "execution_count": null,
   "metadata": {},
   "outputs": [],
   "source": [
    "# Import data\n",
    "sql_query = \"\"\"\n",
    "\n",
    "\"\"\""
   ]
  }
 ],
 "metadata": {
  "kernelspec": {
   "display_name": "Python 3",
   "language": "python",
   "name": "python3"
  },
  "language_info": {
   "codemirror_mode": {
    "name": "ipython",
    "version": 3
   },
   "file_extension": ".py",
   "mimetype": "text/x-python",
   "name": "python",
   "nbconvert_exporter": "python",
   "pygments_lexer": "ipython3",
   "version": "3.8.3"
  }
 },
 "nbformat": 4,
 "nbformat_minor": 4
}
